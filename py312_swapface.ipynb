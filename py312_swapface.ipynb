{
 "nbformat": 4,
 "nbformat_minor": 0,
 "metadata": {
  "colab": {
   "provenance": []
  },
  "kernelspec": {
   "name": "python3",
   "display_name": "Python 3"
  },
  "language_info": {
   "name": "python"
  }
 },
 "cells": [
  {
   "cell_type": "code",
   "metadata": {
    "colab": {
     "base_uri": "https://localhost:8080/"
    },
    "id": "pzVQaAPOYmoO",
    "outputId": "79605525-416d-40a4-b704-eb2bd10c1ba4"
   },
   "source": [
    "!git clone https://github.com/kuschzzp/swap_face.git"
   ],
   "outputs": [],
   "execution_count": null
  },
  {
   "cell_type": "code",
   "source": [
    "%cd swap_face\n",
    "!pip install -r requirements.txt\n",
    "# 中途出现让你 restart session 点击 重启会话 后再次执行这个 即可看到都安装成功了～～～～～～"
   ],
   "metadata": {
    "colab": {
     "base_uri": "https://localhost:8080/"
    },
    "id": "wytFWZqaY6ez",
    "outputId": "155bfc1c-7a4c-4ef8-f46e-91a6dd09e5ab"
   },
   "outputs": [],
   "execution_count": null
  },
  {
   "cell_type": "code",
   "source": [
    "from codes.swap_face_processor import roop_processor\n",
    "# 参见main.py中的使用示例\n",
    "success = run_processor(\n",
    "    source_path='/content/swap_face/source.jpg', # 人脸图片路径\n",
    "    target_path='/content/swap_face/target.jpg', # 目标图片路径\n",
    "    output_path='/content/swap_face/target_sssssss.jpg', # 最终输出的图片\n",
    "    frame_processors=['face_swapper', 'face_enhancer'],\n",
    "    execution_provider='CPUExecutionProvider',\n",
    "    keep_fps=True,\n",
    "    many_faces=True, # 替换图片中所有人脸\n",
    "    reference_face_position=0, # 替换第张人脸，默认第一\n",
    "    similar_face_distance=0.80\n",
    ")\n",
    "\n",
    "if success:\n",
    "    print(\"处理完成!\")\n",
    "else:\n",
    "    print(\"处理失败!\")\n"
   ],
   "metadata": {
    "colab": {
     "base_uri": "https://localhost:8080/"
    },
    "id": "WJ3DyNI5bPIi",
    "outputId": "d084e6b8-3a9d-481e-a437-0b0c53febee5"
   },
   "outputs": [],
   "execution_count": null
  }
 ]
}
